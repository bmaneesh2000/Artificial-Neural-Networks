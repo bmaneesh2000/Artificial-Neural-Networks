{
  "cells": [
    {
      "cell_type": "code",
      "execution_count": 1,
      "metadata": {
        "colab": {},
        "colab_type": "code",
        "id": "sCV30xyVhFbE"
      },
      "outputs": [
        {
          "name": "stderr",
          "output_type": "stream",
          "text": [
            "2023-09-16 11:18:51.926873: I tensorflow/core/platform/cpu_feature_guard.cc:182] This TensorFlow binary is optimized to use available CPU instructions in performance-critical operations.\n",
            "To enable the following instructions: SSE4.1 SSE4.2 AVX AVX2 FMA, in other operations, rebuild TensorFlow with the appropriate compiler flags.\n"
          ]
        }
      ],
      "source": [
        "import tensorflow as tf\n",
        "from keras.preprocessing.image import ImageDataGenerator"
      ]
    },
    {
      "cell_type": "code",
      "execution_count": 2,
      "metadata": {
        "colab": {},
        "colab_type": "code",
        "id": "FIleuCAjoFD8"
      },
      "outputs": [
        {
          "data": {
            "text/plain": [
              "'2.12.0'"
            ]
          },
          "execution_count": 2,
          "metadata": {},
          "output_type": "execute_result"
        }
      ],
      "source": [
        "tf.__version__"
      ]
    },
    {
      "cell_type": "code",
      "execution_count": 3,
      "metadata": {
        "colab": {},
        "colab_type": "code",
        "id": "0koUcJMJpEBD"
      },
      "outputs": [
        {
          "name": "stdout",
          "output_type": "stream",
          "text": [
            "Found 8000 images belonging to 2 classes.\n"
          ]
        }
      ],
      "source": [
        "train_datagen = ImageDataGenerator(rescale = 1./255,\n",
        "                                   shear_range = 0.2,\n",
        "                                   zoom_range = 0.2,\n",
        "                                   horizontal_flip = True)\n",
        "training_set = train_datagen.flow_from_directory('dataset/training_set',\n",
        "                                                 target_size = (64, 64),\n",
        "                                                 batch_size = 32,\n",
        "                                                 class_mode = 'binary')"
      ]
    },
    {
      "cell_type": "code",
      "execution_count": 4,
      "metadata": {
        "colab": {},
        "colab_type": "code",
        "id": "SH4WzfOhpKc3"
      },
      "outputs": [
        {
          "name": "stdout",
          "output_type": "stream",
          "text": [
            "Found 2000 images belonging to 2 classes.\n"
          ]
        }
      ],
      "source": [
        "test_datagen = ImageDataGenerator(rescale = 1./255)\n",
        "test_set = test_datagen.flow_from_directory('dataset/test_set',\n",
        "                                            target_size = (64, 64),\n",
        "                                            batch_size = 32,\n",
        "                                            class_mode = 'binary')"
      ]
    },
    {
      "cell_type": "code",
      "execution_count": 5,
      "metadata": {
        "colab": {},
        "colab_type": "code",
        "id": "SAUt4UMPlhLS"
      },
      "outputs": [
        {
          "name": "stderr",
          "output_type": "stream",
          "text": [
            "2023-09-16 11:19:35.721767: I tensorflow/core/common_runtime/process_util.cc:146] Creating new thread pool with default inter op setting: 2. Tune using inter_op_parallelism_threads for best performance.\n"
          ]
        }
      ],
      "source": [
        "cnn = tf.keras.models.Sequential()\n",
        "\n",
        "cnn.add(tf.keras.layers.Conv2D(filters=32, kernel_size=3, activation='relu', input_shape=[64, 64, 3]))\n",
        "cnn.add(tf.keras.layers.MaxPool2D(pool_size=2, strides=2))\n",
        "\n",
        "cnn.add(tf.keras.layers.Conv2D(filters=32, kernel_size=3, activation='relu'))\n",
        "cnn.add(tf.keras.layers.MaxPool2D(pool_size=2, strides=2))\n",
        "\n",
        "cnn.add(tf.keras.layers.Flatten())\n",
        "\n",
        "cnn.add(tf.keras.layers.Dense(units=128, activation='relu'))\n",
        "\n",
        "cnn.add(tf.keras.layers.Dense(units=1, activation='sigmoid'))\n",
        "\n",
        "cnn.compile(optimizer = 'adam', loss = 'binary_crossentropy', metrics = ['accuracy'])"
      ]
    },
    {
      "cell_type": "code",
      "execution_count": 6,
      "metadata": {
        "colab": {},
        "colab_type": "code",
        "id": "XUj1W4PJptta"
      },
      "outputs": [
        {
          "name": "stdout",
          "output_type": "stream",
          "text": [
            "Epoch 1/25\n"
          ]
        },
        {
          "name": "stderr",
          "output_type": "stream",
          "text": [
            "2023-09-16 11:19:39.444145: I tensorflow/core/common_runtime/executor.cc:1197] [/device:CPU:0] (DEBUG INFO) Executor start aborting (this does not indicate an error and you can ignore this message): INVALID_ARGUMENT: You must feed a value for placeholder tensor 'Placeholder/_0' with dtype int32\n",
            "\t [[{{node Placeholder/_0}}]]\n"
          ]
        },
        {
          "name": "stdout",
          "output_type": "stream",
          "text": [
            "250/250 [==============================] - ETA: 0s - loss: 0.6889 - accuracy: 0.5396"
          ]
        },
        {
          "name": "stderr",
          "output_type": "stream",
          "text": [
            "2023-09-16 11:21:15.814088: I tensorflow/core/common_runtime/executor.cc:1197] [/device:CPU:0] (DEBUG INFO) Executor start aborting (this does not indicate an error and you can ignore this message): INVALID_ARGUMENT: You must feed a value for placeholder tensor 'Placeholder/_0' with dtype int32\n",
            "\t [[{{node Placeholder/_0}}]]\n"
          ]
        },
        {
          "name": "stdout",
          "output_type": "stream",
          "text": [
            "250/250 [==============================] - 110s 428ms/step - loss: 0.6889 - accuracy: 0.5396 - val_loss: 0.6594 - val_accuracy: 0.6385\n",
            "Epoch 2/25\n",
            "250/250 [==============================] - 115s 460ms/step - loss: 0.6324 - accuracy: 0.6345 - val_loss: 0.5873 - val_accuracy: 0.6905\n",
            "Epoch 3/25\n",
            "250/250 [==============================] - 122s 490ms/step - loss: 0.5818 - accuracy: 0.6929 - val_loss: 0.5348 - val_accuracy: 0.7340\n",
            "Epoch 4/25\n",
            "250/250 [==============================] - 114s 457ms/step - loss: 0.5383 - accuracy: 0.7264 - val_loss: 0.5228 - val_accuracy: 0.7500\n",
            "Epoch 5/25\n",
            "250/250 [==============================] - 113s 453ms/step - loss: 0.5150 - accuracy: 0.7467 - val_loss: 0.4997 - val_accuracy: 0.7645\n",
            "Epoch 6/25\n",
            "250/250 [==============================] - 107s 426ms/step - loss: 0.4927 - accuracy: 0.7558 - val_loss: 0.4896 - val_accuracy: 0.7665\n",
            "Epoch 7/25\n",
            "250/250 [==============================] - 114s 456ms/step - loss: 0.4748 - accuracy: 0.7705 - val_loss: 0.4926 - val_accuracy: 0.7630\n",
            "Epoch 8/25\n",
            "250/250 [==============================] - 114s 458ms/step - loss: 0.4631 - accuracy: 0.7816 - val_loss: 0.4653 - val_accuracy: 0.7860\n",
            "Epoch 9/25\n",
            "250/250 [==============================] - 106s 424ms/step - loss: 0.4453 - accuracy: 0.7870 - val_loss: 0.4687 - val_accuracy: 0.7790\n",
            "Epoch 10/25\n",
            "250/250 [==============================] - 113s 452ms/step - loss: 0.4303 - accuracy: 0.7974 - val_loss: 0.4373 - val_accuracy: 0.7985\n",
            "Epoch 11/25\n",
            "250/250 [==============================] - 108s 432ms/step - loss: 0.4232 - accuracy: 0.8062 - val_loss: 0.4570 - val_accuracy: 0.7975\n",
            "Epoch 12/25\n",
            "250/250 [==============================] - 112s 451ms/step - loss: 0.4084 - accuracy: 0.8079 - val_loss: 0.4444 - val_accuracy: 0.8090\n",
            "Epoch 13/25\n",
            "250/250 [==============================] - 122s 487ms/step - loss: 0.3965 - accuracy: 0.8192 - val_loss: 0.4488 - val_accuracy: 0.8030\n",
            "Epoch 14/25\n",
            "250/250 [==============================] - 112s 450ms/step - loss: 0.3832 - accuracy: 0.8234 - val_loss: 0.4672 - val_accuracy: 0.7935\n",
            "Epoch 15/25\n",
            "250/250 [==============================] - 108s 434ms/step - loss: 0.3718 - accuracy: 0.8315 - val_loss: 0.4479 - val_accuracy: 0.8025\n",
            "Epoch 16/25\n",
            "250/250 [==============================] - 107s 429ms/step - loss: 0.3616 - accuracy: 0.8349 - val_loss: 0.4264 - val_accuracy: 0.8175\n",
            "Epoch 17/25\n",
            "250/250 [==============================] - 126s 503ms/step - loss: 0.3481 - accuracy: 0.8438 - val_loss: 0.4654 - val_accuracy: 0.8005\n",
            "Epoch 18/25\n",
            "250/250 [==============================] - 114s 456ms/step - loss: 0.3439 - accuracy: 0.8486 - val_loss: 0.4469 - val_accuracy: 0.8035\n",
            "Epoch 19/25\n",
            "250/250 [==============================] - 106s 425ms/step - loss: 0.3389 - accuracy: 0.8487 - val_loss: 0.4428 - val_accuracy: 0.8065\n",
            "Epoch 20/25\n",
            "250/250 [==============================] - 108s 433ms/step - loss: 0.3275 - accuracy: 0.8575 - val_loss: 0.4375 - val_accuracy: 0.8140\n",
            "Epoch 21/25\n",
            "250/250 [==============================] - 108s 433ms/step - loss: 0.3206 - accuracy: 0.8601 - val_loss: 0.4458 - val_accuracy: 0.8175\n",
            "Epoch 22/25\n",
            "250/250 [==============================] - 109s 435ms/step - loss: 0.3157 - accuracy: 0.8614 - val_loss: 0.4373 - val_accuracy: 0.8055\n",
            "Epoch 23/25\n",
            "250/250 [==============================] - 109s 437ms/step - loss: 0.3002 - accuracy: 0.8684 - val_loss: 0.5550 - val_accuracy: 0.7770\n",
            "Epoch 24/25\n",
            "250/250 [==============================] - 109s 436ms/step - loss: 0.2890 - accuracy: 0.8731 - val_loss: 0.4720 - val_accuracy: 0.8030\n",
            "Epoch 25/25\n",
            "250/250 [==============================] - 107s 430ms/step - loss: 0.2811 - accuracy: 0.8780 - val_loss: 0.4792 - val_accuracy: 0.8035\n"
          ]
        },
        {
          "data": {
            "text/plain": [
              "<keras.callbacks.History at 0x7f9f89dc76d0>"
            ]
          },
          "execution_count": 6,
          "metadata": {},
          "output_type": "execute_result"
        }
      ],
      "source": [
        "cnn.fit(x = training_set, validation_data = test_set, epochs = 25)"
      ]
    },
    {
      "cell_type": "code",
      "execution_count": 32,
      "metadata": {},
      "outputs": [],
      "source": [
        "cnn.save('dog cat classifier.h5')"
      ]
    }
  ],
  "metadata": {
    "colab": {
      "collapsed_sections": [],
      "name": "convolutional_neural_network.ipynb",
      "provenance": [],
      "toc_visible": true
    },
    "kernelspec": {
      "display_name": "Python 3",
      "name": "python3"
    }
  },
  "nbformat": 4,
  "nbformat_minor": 0
}
